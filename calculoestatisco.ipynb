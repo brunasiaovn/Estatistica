{
  "nbformat": 4,
  "nbformat_minor": 0,
  "metadata": {
    "colab": {
      "provenance": [],
      "authorship_tag": "ABX9TyNxnA0DrCmOnk6ZHhKI81Z6",
      "include_colab_link": true
    },
    "kernelspec": {
      "name": "python3",
      "display_name": "Python 3"
    },
    "language_info": {
      "name": "python"
    }
  },
  "cells": [
    {
      "cell_type": "markdown",
      "metadata": {
        "id": "view-in-github",
        "colab_type": "text"
      },
      "source": [
        "<a href=\"https://colab.research.google.com/github/brunasiaovn/Estatistica/blob/main/calculoestatisco.ipynb\" target=\"_parent\"><img src=\"https://colab.research.google.com/assets/colab-badge.svg\" alt=\"Open In Colab\"/></a>"
      ]
    },
    {
      "cell_type": "markdown",
      "source": [],
      "metadata": {
        "id": "MaY63d3n1lbu"
      }
    },
    {
      "cell_type": "markdown",
      "source": [
        "Nesta aula vamos aprender um pouco de estatísca em python"
      ],
      "metadata": {
        "id": "lA4dTOH52UVE"
      }
    },
    {
      "cell_type": "code",
      "source": [
        "# Importando pacotes\n",
        "import  math # math fornece informações matematica\n",
        "import numpy as np # importando o método numpy e dando um apelido a ele de np\n",
        "import statistics"
      ],
      "metadata": {
        "id": "xeOaywqu2mW-"
      },
      "execution_count": 11,
      "outputs": []
    },
    {
      "cell_type": "code",
      "source": [
        "# Idade dos alunos da turma de estatística\n",
        "idade = [20, 20, 23, 30, 29, 20, 20, 20, 24, 20, 21, 20, 22, 21, 19, 21, 25, 19, 19, 21, 19]"
      ],
      "metadata": {
        "id": "lrx1h7F_42_I"
      },
      "execution_count": 8,
      "outputs": []
    },
    {
      "cell_type": "code",
      "source": [
        "# Cálculo estatísticos\n",
        "\n",
        "# Cálculo de média\n",
        "media = statistics.mean(idade)\n",
        "print(media)\n",
        "\n",
        "# Cálculo de Mediana\n",
        "mediana = statistics.median(idade)\n",
        "\n",
        "# Cálculo da Média Geométrica\n",
        "media_geometrica = statistics.geometric_mean(idade)\n",
        "\n",
        "# Cálculo da Média Harmônica\n",
        "media_harmonica = statistics.harmonic_mean(idade)\n",
        "\n",
        "# Cálculo da moda\n",
        "moda = statistics.mode(idade)\n",
        "\n",
        "# Cálculo de amplitude\n",
        "amplitude = max(idade)-min(idade)\n",
        "\n",
        "# Cálculo da variância amostral\n",
        "variancia = statistics.variance(idade)\n",
        "print(variancia)\n",
        "\n",
        "# Cálculo do desvio padrão amostral\n",
        "desvio_padrao = statistics.stdev(idade)\n",
        "print(desvio_padrao)\n",
        "\n",
        "# Cálculo do coeficiente de variação\n",
        "CV = desvio_padrao / media * 100\n",
        "print(CV)\n"
      ],
      "metadata": {
        "colab": {
          "base_uri": "https://localhost:8080/"
        },
        "id": "CkMUJhXg6ZqO",
        "outputId": "2c2a342d-e2bb-41ad-91b7-ba6fd310cfc9"
      },
      "execution_count": 9,
      "outputs": [
        {
          "output_type": "stream",
          "name": "stdout",
          "text": [
            "21.571428571428573\n",
            "9.557142857142857\n",
            "3.0914628992020683\n",
            "14.331284963188395\n"
          ]
        }
      ]
    }
  ]
}